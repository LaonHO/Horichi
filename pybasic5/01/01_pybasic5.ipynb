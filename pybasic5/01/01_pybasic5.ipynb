{
 "cells": [
  {
   "cell_type": "markdown",
   "metadata": {},
   "source": [
    "# 파이션 설치 \n",
    "https://www.python.org/downloads/\n",
    "\n",
    "### 동작 테스트 \n",
    "import sys \n",
    "print(sys.exit())\n",
    "\n"
   ]
  },
  {
   "cell_type": "markdown",
   "metadata": {},
   "source": [
    "##수업 참고 교재 \n",
    "## 참고도서 : 점프투 파이션 \n",
    "- 점프투 파이션 : https://wikidocs.net/book/1\n",
    "- 파이썬으로 배우는 알고리즘 트레이딩 : https://wikidocs.net/book/110\n",
    "- python format strings : https://pyformat.info/\n",
    "- 무료파이션 온라인 교재 : http://byteofpython-korean.sourceforge.net/byte_of_python.html \n",
    "\n",
    "## 파이션 프로그래밍 일정\n",
    "#### 01일차 \n",
    "#### OT \n",
    "#### 1. 파이션은 무엇인가 ?\n",
    "#### 1.1. 컴퓨터 아키텍처\n",
    "#### 1.2. 메모리 구조 \n",
    "#### 2. 자료형\n",
    "#### 2.1 숫자형\n",
    "#### 2.2 문자열 자료형\n",
    "#### 2.3 리스트 자료형 \n",
    "#### 2.3 튜플자료형 ( 간한한 소개 )\n",
    "#### 2.4 집합자료형 \n",
    "#### 2.5 딕셔너리 자료형 \n",
    "#### 2.6 집합자료형\n",
    "#### 2.7 자료형 참 과 것\n",
    "#### 2.8 자료형의 값을 저장하는 공간, 변수 \n",
    "\n",
    "#### Quiz 연습문제\n",
    "#### 03 흐름제어 \n",
    "#### 03-1 if \n",
    "#### 03-2 while \n",
    "#### 03-3 for\n",
    "#### 03-4 알고리즘\n",
    "#### Quiz 연습문제\n",
    "\n",
    "#### 04  함수 \n",
    "#### 04-01 함수\n",
    "#### 04-02 입력과 출력\n",
    "#### 04-03 파일 읽고 쓰기\n",
    "#### Quiz 연습문제\n",
    "#### 05  클래스 \n",
    "#### 05-1 클래스  \n",
    "#### 05-2 모듈\n",
    "#### 05-3 패키지\n",
    "#### 05-4 GUI 프로그램 ( Sample1 )\n",
    "#### 05-5 GUI 프로그램 ( Sample2 )\n",
    "#### 05-6 예외처리\n",
    "#### 05-7 내장함수\n",
    "#### 05-8 외장함수\n",
    "#### 05 Quiz 연습문제\n",
    "#### 06 파이션프로그램 어떻게 시작할까\n",
    "#### 06 Quiz 연습문제\n",
    "#### 07-01 정규표현식1\n",
    "#### 07-02 정규표현식2\n",
    "#### 07-03 정규표현식3 \n",
    "#### 07-04 XML 처리\n",
    "#### 07-05 CSV 처리 \n",
    "#### 07-06 docx 리포트 생성\n",
    "#### Quiz 연습문제 \n",
    "## \n",
    "#### git 사용법 소개  \n",
    "#### Socket 통신 \n",
    "#### Socket 통신 사용하는 이유 (이론 )\n",
    "#### 백신 개발하기 (Sample )\n",
    "#### 프로그램 배포 하기 (nsis) => 간간한 설치 프로그램 만들기 \n",
    "#### 파이션 실행파일로 만들기 \n",
    "#### python exploit \n",
    "#### 웹 크롤링\n",
    "#### 쓰레드 (thread, threading)\n",
    "#### 로깅\n",
    "#### 알고리즘  "
   ]
  },
  {
   "cell_type": "markdown",
   "metadata": {},
   "source": [
    "# 파이션 배포판의 종류\n",
    "##배포판 이름\t주소<br>\n",
    "-Anaconda\thttps://store.continuum.io/cshop/anaconda/ <br>\n",
    "-Python(x,y)\thttps://code.google.com/p/pythonxy/<br>\n",
    "-Enthought Canopy\thttps://www.enthought.com/products/epd/<br>\n",
    "-WinPython\thttp://winpython.github.io/<br>\n",
    "\n",
    "## ref :\n",
    " - https://wikidocs.net/2824   아나콘다 \n",
    " - https://wikidocs.net/2827   파이썬 인터프리터 실행"
   ]
  },
  {
   "cell_type": "code",
   "execution_count": null,
   "metadata": {
    "collapsed": true
   },
   "outputs": [],
   "source": [
    "변수 \n",
    "A=1000000\n",
    "\"=\" 대입연산자 라고 한다. \n"
   ]
  },
  {
   "cell_type": "markdown",
   "metadata": {},
   "source": [
    "## 자료형 "
   ]
  },
  {
   "cell_type": "markdown",
   "metadata": {},
   "source": [
    "- 정수 : 123, -345, 0\n",
    "- 실수 : 123.45, -1234.5, 3.4e10\n",
    "- 복소수 : 1+2j, -3j\n",
    "- 8진수  : 0o34, 0o25        =>  o 8진수를 의미 \n",
    "- 16진수 : 0x2A, 0xFF        =>  x 16진수를 의미 "
   ]
  },
  {
   "cell_type": "code",
   "execution_count": 41,
   "metadata": {
    "collapsed": true
   },
   "outputs": [],
   "source": [
    "# 정수형 \n",
    "a=  123\n",
    "b = -178\n",
    "c = 0"
   ]
  },
  {
   "cell_type": "code",
   "execution_count": null,
   "metadata": {
    "collapsed": true
   },
   "outputs": [],
   "source": [
    "#실수형\n",
    "a   = 1.2 \n",
    "b   = -3.45"
   ]
  },
  {
   "cell_type": "code",
   "execution_count": 44,
   "metadata": {},
   "outputs": [
    {
     "data": {
      "text/plain": [
       "-0.6910112359550562"
      ]
     },
     "execution_count": 44,
     "metadata": {},
     "output_type": "execute_result"
    }
   ],
   "source": [
    "c = a / b \n",
    "c      # 결과가 실수 인데 정의를 하여 주지 않아도 된다. "
   ]
  },
  {
   "cell_type": "code",
   "execution_count": 45,
   "metadata": {
    "collapsed": true
   },
   "outputs": [],
   "source": [
    "a = 4.24E10    # => 4.24 * 10 ^10 \n",
    "b = 4.24e-10      \n",
    "# 컴퓨터식 지수 표현 방식       "
   ]
  },
  {
   "cell_type": "markdown",
   "metadata": {},
   "source": [
    "### 파이썬 변수와 객체"
   ]
  },
  {
   "cell_type": "code",
   "execution_count": 35,
   "metadata": {
    "collapsed": true
   },
   "outputs": [],
   "source": [
    "strings='문재인 대통령'"
   ]
  },
  {
   "cell_type": "code",
   "execution_count": 36,
   "metadata": {},
   "outputs": [
    {
     "data": {
      "text/plain": [
       "2946622501808"
      ]
     },
     "execution_count": 36,
     "metadata": {},
     "output_type": "execute_result"
    }
   ],
   "source": [
    "id(strings)"
   ]
  },
  {
   "cell_type": "code",
   "execution_count": 37,
   "metadata": {},
   "outputs": [
    {
     "data": {
      "text/plain": [
       "(2946622515040, 2946622515040, 2946622515040)"
      ]
     },
     "execution_count": 37,
     "metadata": {},
     "output_type": "execute_result"
    }
   ],
   "source": [
    "id(strings[0]),id(strings[1]),id(strings[2])"
   ]
  },
  {
   "cell_type": "code",
   "execution_count": 38,
   "metadata": {},
   "outputs": [
    {
     "name": "stdout",
     "output_type": "stream",
     "text": [
      "id(x): 2004464672\n",
      "id(y): 2004464672\n"
     ]
    }
   ],
   "source": [
    "x=0\n",
    "y=0\n",
    "print(\"id(x):\",id(x))\n",
    "print(\"id(y):\",id(y))"
   ]
  },
  {
   "cell_type": "markdown",
   "metadata": {},
   "source": [
    "- 메모리에 조금 전의 100과 다른 위치에 100을 할당하고, 그 주솟값을 y가 가리킨다(메모리에 두 개의 '100'이 존재).\n",
    "- 메모리가 아까우니 조금 전의 100의 주소를 y가 가리키게 한다(메모리에 100은 실제로 하나만 존재)."
   ]
  },
  {
   "cell_type": "code",
   "execution_count": 39,
   "metadata": {},
   "outputs": [
    {
     "name": "stdout",
     "output_type": "stream",
     "text": [
      "id(x): 2004467872\n",
      "id(y): 2004467872\n"
     ]
    }
   ],
   "source": [
    "x=100\n",
    "y=100\n",
    "print(\"id(x):\",id(x))\n",
    "print(\"id(y):\",id(y))"
   ]
  },
  {
   "cell_type": "code",
   "execution_count": 40,
   "metadata": {},
   "outputs": [
    {
     "name": "stdout",
     "output_type": "stream",
     "text": [
      "id(x): 2946622484912\n",
      "id(y): 2946622485904\n"
     ]
    }
   ],
   "source": [
    "x=1000\n",
    "y=1000\n",
    "print(\"id(x):\",id(x))\n",
    "print(\"id(y):\",id(y))"
   ]
  },
  {
   "cell_type": "markdown",
   "metadata": {},
   "source": [
    "# 사칙연산"
   ]
  },
  {
   "cell_type": "code",
   "execution_count": 5,
   "metadata": {},
   "outputs": [
    {
     "data": {
      "text/plain": [
       "3"
      ]
     },
     "execution_count": 5,
     "metadata": {},
     "output_type": "execute_result"
    }
   ],
   "source": [
    "# 더하기\n",
    "1+2"
   ]
  },
  {
   "cell_type": "code",
   "execution_count": 6,
   "metadata": {},
   "outputs": [
    {
     "data": {
      "text/plain": [
       "1.25"
      ]
     },
     "execution_count": 6,
     "metadata": {},
     "output_type": "execute_result"
    }
   ],
   "source": [
    "# 나누기(% -> /)\n",
    "3/2.4"
   ]
  },
  {
   "cell_type": "code",
   "execution_count": 7,
   "metadata": {},
   "outputs": [
    {
     "data": {
      "text/plain": [
       "27"
      ]
     },
     "execution_count": 7,
     "metadata": {},
     "output_type": "execute_result"
    }
   ],
   "source": [
    "# 곱하기 (X -> *)\n",
    "3*9"
   ]
  },
  {
   "cell_type": "markdown",
   "metadata": {},
   "source": [
    "## 변수에 숫자 대입하고 계산하기 "
   ]
  },
  {
   "cell_type": "code",
   "execution_count": 9,
   "metadata": {},
   "outputs": [
    {
     "data": {
      "text/plain": [
       "3"
      ]
     },
     "execution_count": 9,
     "metadata": {},
     "output_type": "execute_result"
    }
   ],
   "source": [
    "a=1     # int a \n",
    "b=2     # int b\n",
    "a+b     # int c \n",
    "        # c = a + b "
   ]
  },
  {
   "cell_type": "code",
   "execution_count": 14,
   "metadata": {},
   "outputs": [
    {
     "data": {
      "text/plain": [
       "((2+3j), (3-4j))"
      ]
     },
     "execution_count": 14,
     "metadata": {},
     "output_type": "execute_result"
    }
   ],
   "source": [
    "#복소수 & 복소수의 연산 \n",
    "a = 2 + 3j\n",
    "b=complex(3,-4)\n",
    "a,b"
   ]
  },
  {
   "cell_type": "markdown",
   "metadata": {},
   "source": [
    "파이션에서는 imaginary number 의 약자 i 대신  j or J 사용\n",
    "그래서 a = 2 + 3j 또는 b = complex(3, -4) 처럼 실수부와 허수부를 구분하여 표한 할수 도 있다. "
   ]
  },
  {
   "cell_type": "code",
   "execution_count": 16,
   "metadata": {},
   "outputs": [
    {
     "data": {
      "text/plain": [
       "(3.0, -4.0)"
      ]
     },
     "execution_count": 16,
     "metadata": {},
     "output_type": "execute_result"
    }
   ],
   "source": [
    "b.real # 실수부 \n",
    "b.imag # 허수부 \n",
    "b.real, b.imag  #"
   ]
  },
  {
   "cell_type": "code",
   "execution_count": 17,
   "metadata": {},
   "outputs": [
    {
     "data": {
      "text/plain": [
       "(2-3j)"
      ]
     },
     "execution_count": 17,
     "metadata": {},
     "output_type": "execute_result"
    }
   ],
   "source": [
    "a.conjugate()  # 켤레복소수의 표현 "
   ]
  },
  {
   "cell_type": "code",
   "execution_count": 18,
   "metadata": {},
   "outputs": [
    {
     "data": {
      "text/plain": [
       "5.0"
      ]
     },
     "execution_count": 18,
     "metadata": {},
     "output_type": "execute_result"
    }
   ],
   "source": [
    "abs(b) # 복소수의 크기 "
   ]
  },
  {
   "cell_type": "markdown",
   "metadata": {},
   "source": [
    "### 변수에 숫자 대입 하고 계산하기 "
   ]
  },
  {
   "cell_type": "code",
   "execution_count": 11,
   "metadata": {},
   "outputs": [
    {
     "name": "stdout",
     "output_type": "stream",
     "text": [
      "python\n"
     ]
    }
   ],
   "source": [
    "a=\"python\"\n",
    "print(a)"
   ]
  },
  {
   "cell_type": "code",
   "execution_count": 19,
   "metadata": {
    "collapsed": true
   },
   "outputs": [],
   "source": [
    "###조건문 if"
   ]
  },
  {
   "cell_type": "code",
   "execution_count": 20,
   "metadata": {},
   "outputs": [
    {
     "name": "stdout",
     "output_type": "stream",
     "text": [
      "a is greater than 1\n"
     ]
    }
   ],
   "source": [
    "a=3\n",
    "if a > 1:\n",
    "    print(\"a is greater than 1\") ## 들여쓰기 spacebar 4칸     \n",
    "    # a=3 "
   ]
  },
  {
   "cell_type": "code",
   "execution_count": 24,
   "metadata": {},
   "outputs": [
    {
     "name": "stdout",
     "output_type": "stream",
     "text": [
      "3\n",
      "3 은 1보다 크다 .\n"
     ]
    }
   ],
   "source": [
    "a=input()\n",
    "a=int(a)\n",
    "if a > 1 :\n",
    "    print(a,\"은 1보다 크다 .\")  # print 는 화면을 출력해라는 의미 다. C printf(\"123123\"), java/jsp System.out.println(\"testest\")\n"
   ]
  },
  {
   "cell_type": "code",
   "execution_count": 26,
   "metadata": {
    "collapsed": true
   },
   "outputs": [],
   "source": [
    "#반복문for "
   ]
  },
  {
   "cell_type": "code",
   "execution_count": 30,
   "metadata": {},
   "outputs": [
    {
     "name": "stdout",
     "output_type": "stream",
     "text": [
      "1,2,3,"
     ]
    }
   ],
   "source": [
    "for a in [1,2,3]:      \n",
    "    print(a,end=\",\")\n"
   ]
  },
  {
   "cell_type": "code",
   "execution_count": 31,
   "metadata": {
    "collapsed": true
   },
   "outputs": [],
   "source": [
    "#반복문 while "
   ]
  },
  {
   "cell_type": "code",
   "execution_count": 32,
   "metadata": {},
   "outputs": [
    {
     "name": "stdout",
     "output_type": "stream",
     "text": [
      "1\n",
      "2\n",
      "3\n"
     ]
    }
   ],
   "source": [
    "i=0\n",
    "while i < 3:   # ~ 인동안   의미 이고 while Ture \n",
    "    i = i+1\n",
    "    print(i)"
   ]
  },
  {
   "cell_type": "code",
   "execution_count": 34,
   "metadata": {},
   "outputs": [
    {
     "name": "stdout",
     "output_type": "stream",
     "text": [
      "7\n"
     ]
    }
   ],
   "source": [
    "def sum(a,b):\n",
    "    return a + b\n",
    "\n",
    "print(sum(3,4))"
   ]
  },
  {
   "cell_type": "code",
   "execution_count": 35,
   "metadata": {},
   "outputs": [
    {
     "data": {
      "text/plain": [
       "'\\nAuthor: SeongHun Kang\\nDate : 2017. 05. 20\\n이프로그램은 Hello World를 출력하는 프로그램이다. \\n\\n'"
      ]
     },
     "execution_count": 35,
     "metadata": {},
     "output_type": "execute_result"
    }
   ],
   "source": [
    "#주석 여러 줄짜리 주석 문 \n",
    "'''\n",
    "Author: SeongHun Kang\n",
    "Date : 2017. 05. 20\n",
    "이프로그램은 Hello World를 출력하는 프로그램이다. \n",
    "'''\n",
    "\"\"\"\n",
    "Author: SeongHun Kang\n",
    "Date : 2017. 05. 20\n",
    "이프로그램은 Hello World를 출력하는 프로그램이다. \n",
    "\n",
    "\"\"\""
   ]
  },
  {
   "cell_type": "markdown",
   "metadata": {},
   "source": [
    "# 숫자형"
   ]
  },
  {
   "cell_type": "raw",
   "metadata": {},
   "source": [
    "    ????"
   ]
  },
  {
   "cell_type": "code",
   "execution_count": 4,
   "metadata": {
    "collapsed": true
   },
   "outputs": [],
   "source": [
    "#정수형 \n",
    "a=1     # \n",
    "b=-345  #\n",
    "c = 0 "
   ]
  },
  {
   "cell_type": "code",
   "execution_count": 7,
   "metadata": {
    "collapsed": true
   },
   "outputs": [],
   "source": [
    "#실수형\n",
    "a = 1.2\n",
    "b = -3.45\n",
    "c = 23.2"
   ]
  },
  {
   "cell_type": "code",
   "execution_count": null,
   "metadata": {
    "collapsed": true
   },
   "outputs": [],
   "source": [
    "# 지수표현\n",
    "a = 4.24E10\n",
    "b = 4.24e-10\n",
    "\n",
    "#8진수\n",
    "a = 0o177\n",
    "\n",
    "#16진수\n",
    "a = 0x8ff\n",
    "b = 0xABC \n",
    "\n",
    "# 복소수 \n",
    "a = 1 +2j\n",
    "c= 1 + 2j\n",
    "b = 3 - 4J\n",
    "\n",
    "#복소수 실수 출력\n",
    "a = 1+2j\n",
    "a.real "
   ]
  },
  {
   "cell_type": "code",
   "execution_count": 8,
   "metadata": {},
   "outputs": [
    {
     "data": {
      "text/plain": [
       "1.0"
      ]
     },
     "execution_count": 8,
     "metadata": {},
     "output_type": "execute_result"
    }
   ],
   "source": [
    "#복소수 실수 출력\n",
    "a = 1+2j\n",
    "a.real "
   ]
  },
  {
   "cell_type": "code",
   "execution_count": 10,
   "metadata": {},
   "outputs": [
    {
     "data": {
      "text/plain": [
       "2.0"
      ]
     },
     "execution_count": 10,
     "metadata": {},
     "output_type": "execute_result"
    }
   ],
   "source": [
    "#복수소 허수 부분 출력 (리턴)\n",
    "a = 1+2j\n",
    "a.imag"
   ]
  },
  {
   "cell_type": "code",
   "execution_count": 11,
   "metadata": {},
   "outputs": [
    {
     "data": {
      "text/plain": [
       "(1-2j)"
      ]
     },
     "execution_count": 11,
     "metadata": {},
     "output_type": "execute_result"
    }
   ],
   "source": [
    "#복소수.conjugate()\n",
    "a = 1+2j\n",
    "a.conjugate()\n"
   ]
  },
  {
   "cell_type": "code",
   "execution_count": 12,
   "metadata": {},
   "outputs": [
    {
     "data": {
      "text/plain": [
       "2.23606797749979"
      ]
     },
     "execution_count": 12,
     "metadata": {},
     "output_type": "execute_result"
    }
   ],
   "source": [
    "#복소수 절대값 리턴\n",
    "a=1+2j\n",
    "abs(a)"
   ]
  },
  {
   "cell_type": "code",
   "execution_count": 19,
   "metadata": {},
   "outputs": [
    {
     "data": {
      "text/plain": [
       "16"
      ]
     },
     "execution_count": 19,
     "metadata": {},
     "output_type": "execute_result"
    }
   ],
   "source": [
    "#x의 제곱을 나타내는 연산자 :** \n",
    "x= 2\n",
    "y= 4\n",
    "c=2\n",
    "x**y  # x^y"
   ]
  },
  {
   "cell_type": "code",
   "execution_count": 1,
   "metadata": {},
   "outputs": [
    {
     "data": {
      "text/plain": [
       "1"
      ]
     },
     "execution_count": 1,
     "metadata": {},
     "output_type": "execute_result"
    }
   ],
   "source": [
    "7//4"
   ]
  },
  {
   "cell_type": "code",
   "execution_count": null,
   "metadata": {
    "collapsed": true
   },
   "outputs": [],
   "source": []
  },
  {
   "cell_type": "code",
   "execution_count": 2,
   "metadata": {},
   "outputs": [
    {
     "data": {
      "text/plain": [
       "3"
      ]
     },
     "execution_count": 2,
     "metadata": {},
     "output_type": "execute_result"
    }
   ],
   "source": [
    "7%4"
   ]
  },
  {
   "cell_type": "code",
   "execution_count": 6,
   "metadata": {
    "scrolled": true
   },
   "outputs": [
    {
     "ename": "TypeError",
     "evalue": "not all arguments converted during string formatting",
     "output_type": "error",
     "traceback": [
      "\u001b[1;31m---------------------------------------------------------------------------\u001b[0m",
      "\u001b[1;31mTypeError\u001b[0m                                 Traceback (most recent call last)",
      "\u001b[1;32m<ipython-input-6-d9bf61a203a0>\u001b[0m in \u001b[0;36m<module>\u001b[1;34m()\u001b[0m\n\u001b[0;32m      1\u001b[0m \u001b[0ma\u001b[0m\u001b[1;33m=\u001b[0m\u001b[1;36m5\u001b[0m\u001b[1;33m\u001b[0m\u001b[0m\n\u001b[0;32m      2\u001b[0m \u001b[0mb\u001b[0m\u001b[1;33m=\u001b[0m\u001b[1;36m5\u001b[0m\u001b[1;33m\u001b[0m\u001b[0m\n\u001b[1;32m----> 3\u001b[1;33m \u001b[0mprint\u001b[0m\u001b[1;33m(\u001b[0m\u001b[1;34m\"%d % %d\"\u001b[0m \u001b[1;33m%\u001b[0m  \u001b[1;33m(\u001b[0m\u001b[0ma\u001b[0m\u001b[1;33m,\u001b[0m \u001b[0mb\u001b[0m\u001b[1;33m)\u001b[0m\u001b[1;33m)\u001b[0m\u001b[1;33m\u001b[0m\u001b[0m\n\u001b[0m",
      "\u001b[1;31mTypeError\u001b[0m: not all arguments converted during string formatting"
     ]
    }
   ],
   "source": [
    "#Quiz 두 숫자를 입력받아서 각각의 사칙 연산을 수행 하는 프로그램을 만들어 보자 "
   ]
  },
  {
   "cell_type": "markdown",
   "metadata": {},
   "source": [
    "∫excos(x)dx=ex2sin(x)+ex2cos(x)"
   ]
  },
  {
   "cell_type": "markdown",
   "metadata": {},
   "source": [
    "# 작성예제 \n",
    "# 안녕하세요\n",
    "## d\n",
    "### 많은 쓰는 단축키\n",
    "- Ctrl-Enter \n"
   ]
  },
  {
   "cell_type": "code",
   "execution_count": null,
   "metadata": {
    "collapsed": true
   },
   "outputs": [],
   "source": [
    "#수학수식 표시 하기 예제 \n",
    "#$$c = \\sqrt{a^2 + b^2}$$"
   ]
  },
  {
   "cell_type": "markdown",
   "metadata": {},
   "source": [
    "$$c = \\sqrt{a^2 + b^2}$$"
   ]
  },
  {
   "cell_type": "code",
   "execution_count": null,
   "metadata": {
    "collapsed": true
   },
   "outputs": [],
   "source": [
    "# 수식 표현 하기 예제 \n",
    "from IPython.display import display, Math, Latex\n",
    "display(Math(r'F(k) = \\int_{-\\infty}^{\\infty} f(x) e^{2\\pi i k} dx'))"
   ]
  },
  {
   "cell_type": "markdown",
   "metadata": {},
   "source": [
    "from IPython.display import display, Math, Latex\n",
    "display(Math(r'F(k) = \\int_{-\\infty}^{\\infty} f(x) e^{2\\pi i k} dx'))"
   ]
  },
  {
   "cell_type": "markdown",
   "metadata": {},
   "source": [
    "Math(r'F(k) = \\int_{-\\infty}^{\\infty} f(x) e^{2\\pi i k} dx')"
   ]
  },
  {
   "cell_type": "markdown",
   "metadata": {
    "collapsed": true
   },
   "source": [
    "# tip web Server 실행 \n",
    "-Python 2.x 버전 <br>\n",
    "-python -m SimpleHTTPServer 8000 <br>\n",
    "-Python 3.x 버전 <br>\n",
    "-python -m http.server 8000  <br>"
   ]
  },
  {
   "cell_type": "code",
   "execution_count": null,
   "metadata": {
    "collapsed": true
   },
   "outputs": [],
   "source": []
  }
 ],
 "metadata": {
  "kernelspec": {
   "display_name": "Python 3",
   "language": "python",
   "name": "python3"
  },
  "language_info": {
   "codemirror_mode": {
    "name": "ipython",
    "version": 3
   },
   "file_extension": ".py",
   "mimetype": "text/x-python",
   "name": "python",
   "nbconvert_exporter": "python",
   "pygments_lexer": "ipython3",
   "version": "3.6.1"
  }
 },
 "nbformat": 4,
 "nbformat_minor": 2
}
